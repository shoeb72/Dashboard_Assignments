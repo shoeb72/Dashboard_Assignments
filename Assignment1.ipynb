{
  "nbformat": 4,
  "nbformat_minor": 0,
  "metadata": {
    "colab": {
      "provenance": [],
      "authorship_tag": "ABX9TyMo4PzuBsP3D1KCToMu0dIa",
      "include_colab_link": true
    },
    "kernelspec": {
      "name": "python3",
      "display_name": "Python 3"
    },
    "language_info": {
      "name": "python"
    }
  },
  "cells": [
    {
      "cell_type": "markdown",
      "metadata": {
        "id": "view-in-github",
        "colab_type": "text"
      },
      "source": [
        "<a href=\"https://colab.research.google.com/github/shoeb72/Dashboard_Assignments/blob/main/Assignment1.ipynb\" target=\"_parent\"><img src=\"https://colab.research.google.com/assets/colab-badge.svg\" alt=\"Open In Colab\"/></a>"
      ]
    },
    {
      "cell_type": "code",
      "execution_count": null,
      "metadata": {
        "id": "VpFGjLEZ-OuS"
      },
      "outputs": [],
      "source": []
    },
    {
      "cell_type": "markdown",
      "source": [
        "# 1. In the below elements which of them are values or an expression? eg:- values can be\n",
        "integer or string and expressions will be mathematical operators.\n",
        "*\n",
        "&#39;hello&#39;\n",
        "-87.8\n",
        "-\n",
        "/\n",
        "+\n",
        "6\n"
      ],
      "metadata": {
        "id": "BYjyfnyb-dgh"
      }
    },
    {
      "cell_type": "markdown",
      "source": [
        "Answer1)\n",
        "*   Values: hello, 87.8 and 6\n",
        "*   Expression : the operators {* - / + }\n",
        "\n"
      ],
      "metadata": {
        "id": "HeTGdlk9-np6"
      }
    },
    {
      "cell_type": "markdown",
      "source": [
        "---"
      ],
      "metadata": {
        "id": "sp7kosDoDqVp"
      }
    },
    {
      "cell_type": "markdown",
      "source": [
        "#2. What is the difference between string and variable?"
      ],
      "metadata": {
        "id": "kqeuR-6t_G1v"
      }
    },
    {
      "cell_type": "markdown",
      "source": [
        "Ans2) \n",
        "\n",
        "String | Variables\n",
        "-|-\n",
        "String sequence of characters | stores values could either be any data type\n",
        "Strings are immutable | Variables can change vlaues\n",
        "Strings itself is a datatype | Variables can have strings, int, float stored in them\n"
      ],
      "metadata": {
        "id": "8RqQqdEK_LQZ"
      }
    },
    {
      "cell_type": "markdown",
      "source": [
        "---\n"
      ],
      "metadata": {
        "id": "OD-6cXIhDoca"
      }
    },
    {
      "cell_type": "markdown",
      "source": [
        "#3. Describe three different data types."
      ],
      "metadata": {
        "id": "UhoZA-6WD0sP"
      }
    },
    {
      "cell_type": "markdown",
      "source": [
        "Ans3) \n",
        "\n",
        "1. Numeric Type: int , float and complex numbers\n",
        "2. Boolean : used for True or False\n",
        "3. Sequence type: Set, Lists, Tuple\n",
        "\n"
      ],
      "metadata": {
        "id": "jLkF5u8wD6nW"
      }
    },
    {
      "cell_type": "markdown",
      "source": [
        "---\n"
      ],
      "metadata": {
        "id": "5wMwfCBZD9fr"
      }
    },
    {
      "cell_type": "markdown",
      "source": [
        "#4. What is an expression made up of? What do all expressions do?"
      ],
      "metadata": {
        "id": "8ytORCSMD_CF"
      }
    },
    {
      "cell_type": "markdown",
      "source": [
        "Ans4) An expression is a combination of operators and operands which is  used to calculate some other value.\n",
        "Expression evaluates the value required.\n",
        "\n",
        "operators | syntax | function\n",
        "-|-|-\n",
        "+|a+b|addition\n",
        "-|a-b|substraction\n",
        "*|a*b|multiplication\n",
        "/|a/b|division\n",
        "//|a//b|quotient\n",
        "%|a%b|remainder\n",
        "**|a**|power or exponentiation"
      ],
      "metadata": {
        "id": "6QX5Pd5_EGkF"
      }
    },
    {
      "cell_type": "markdown",
      "source": [
        "---\n"
      ],
      "metadata": {
        "id": "iGaFkhaKEIQg"
      }
    },
    {
      "cell_type": "markdown",
      "source": [
        "#5. This assignment statements, like spam = 10. What is the difference between an\n",
        "expression and a statement?"
      ],
      "metadata": {
        "id": "f9U1sbs2EKww"
      }
    },
    {
      "cell_type": "markdown",
      "source": [
        "Ans5)  A statement that assigns a value to a name (variable). To the left of the assignment operator, =, is the name of variable.\n",
        "\n",
        "Whereas an expression is where something is to be evaluated or calculated.\n",
        "example n=n+1."
      ],
      "metadata": {
        "id": "9LvqiAZlEPZF"
      }
    },
    {
      "cell_type": "markdown",
      "source": [
        "---\n"
      ],
      "metadata": {
        "id": "AualJAcjEREf"
      }
    },
    {
      "cell_type": "markdown",
      "source": [
        "#6. After running the following code, what does the variable bacon contain?\n",
        "bacon = 22\n",
        "bacon + 1"
      ],
      "metadata": {
        "id": "d43WdvDZESzm"
      }
    },
    {
      "cell_type": "markdown",
      "source": [
        "Ans6) The **Variable bacon still contains Value 22**, \n",
        " however if we print bacon+1, it will print 23. \n",
        "\n",
        "\n"
      ],
      "metadata": {
        "id": "RRkX7JVsEWLD"
      }
    },
    {
      "cell_type": "code",
      "source": [
        "bacon = 22 \n",
        "print(bacon +1)\n",
        "print(bacon)"
      ],
      "metadata": {
        "colab": {
          "base_uri": "https://localhost:8080/"
        },
        "id": "n1XwUDLPIanC",
        "outputId": "b7bfdae4-5ad0-49dd-f926-3784705eab8c"
      },
      "execution_count": null,
      "outputs": [
        {
          "output_type": "stream",
          "name": "stdout",
          "text": [
            "23\n",
            "22\n"
          ]
        }
      ]
    },
    {
      "cell_type": "markdown",
      "source": [
        "---\n"
      ],
      "metadata": {
        "id": "AcKu6IxxEYOy"
      }
    },
    {
      "cell_type": "markdown",
      "source": [
        "#7. What should the values of the following two terms be?\n",
        "&#39;spam&#39; + &#39;spamspam&#39;\n",
        "&#39;spam&#39; * 3"
      ],
      "metadata": {
        "id": "X_SjOaUKEZJ_"
      }
    },
    {
      "cell_type": "markdown",
      "source": [
        "Ans7) Both will have the same output\n",
        "**'spamspamspam'**"
      ],
      "metadata": {
        "id": "65-g_TOPEe2J"
      }
    },
    {
      "cell_type": "markdown",
      "source": [
        "---"
      ],
      "metadata": {
        "id": "T4HQpPsCEgfT"
      }
    },
    {
      "cell_type": "markdown",
      "source": [
        "#8. Why is eggs a valid variable name while 100 is invalid?"
      ],
      "metadata": {
        "id": "FK9QUyQdEhjf"
      }
    },
    {
      "cell_type": "markdown",
      "source": [
        "Ans8) Names of variables cannot start with numbers or any speacial characters except for \" _ \".\n",
        "This is the reason 100 is an invalid variable name and eggs is a valid variable name."
      ],
      "metadata": {
        "id": "vLfSY_-qEmH8"
      }
    },
    {
      "cell_type": "markdown",
      "source": [
        "---\n"
      ],
      "metadata": {
        "id": "VeF6Wyc6Eprg"
      }
    },
    {
      "cell_type": "markdown",
      "source": [
        "#9.What three functions can be used to get the integer, floating-point number, or string\n",
        "version of a value?"
      ],
      "metadata": {
        "id": "O2Pa-NSAEq0b"
      }
    },
    {
      "cell_type": "markdown",
      "source": [
        "Ans9) int() function for integer,\n",
        "float() for float point number and\n",
        "str() for stings"
      ],
      "metadata": {
        "id": "1E2M6iFVEyqZ"
      }
    },
    {
      "cell_type": "markdown",
      "source": [
        "---\n"
      ],
      "metadata": {
        "id": "ZOrvEAaSE0OX"
      }
    },
    {
      "cell_type": "markdown",
      "source": [
        "#10.Why does this expression cause an error? How can you fix it?\n",
        "&#39;I have eaten &#39; + 99 + &#39; burritos.&#39;"
      ],
      "metadata": {
        "id": "nuoAUVT3E1qv"
      }
    },
    {
      "cell_type": "code",
      "source": [
        "'i have eaten '+'99 '+'burritos'"
      ],
      "metadata": {
        "id": "OzoTytvhhM83"
      },
      "execution_count": null,
      "outputs": []
    },
    {
      "cell_type": "markdown",
      "source": [
        "Ans10) This expression causes an error because we are performing addition between a string and a number. \n",
        "To fix this we need to write 99 as a string, '99'."
      ],
      "metadata": {
        "id": "61AsquUAE667"
      }
    },
    {
      "cell_type": "markdown",
      "source": [
        "---"
      ],
      "metadata": {
        "id": "kvmb4e-9E8sw"
      }
    }
  ]
}